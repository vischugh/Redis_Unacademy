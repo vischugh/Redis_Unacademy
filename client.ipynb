{
 "cells": [
  {
   "cell_type": "code",
   "execution_count": 1,
   "metadata": {},
   "outputs": [],
   "source": [
    "import socket"
   ]
  },
  {
   "cell_type": "code",
   "execution_count": null,
   "metadata": {},
   "outputs": [
    {
     "name": "stdout",
     "output_type": "stream",
     "text": [
      "my_redis> GET vishal foo\n",
      "(nil)\n",
      "my_redis> SET vishal foo\n",
      "OK\n",
      "my_redis> GET vishal foo\n",
      "foo\n",
      "my_redis> SET key1 bar EXP 10\n",
      "OK\n",
      "my_redis> EXPIRE key2 30\n",
      "0\n",
      "my_redis> EXPIRE vishal 30\n",
      "1\n",
      "my_redis> GET vishal\n",
      "(nil)\n",
      "my_redis> ZADD myzset 1 \"one\" 2 \"two\" 3 \"three\"\n",
      "3\n",
      "my_redis> ZRANK myzset \"two\"\n",
      "1\n",
      "my_redis> ZADD myzset 4 \"four\" 5 \"five\"\n",
      "2\n",
      "my_redis> ZRANGE myzset 2 4\n",
      "1 ) \"three\"\n",
      "2 ) \"four\"\n",
      "my_redis> ZRANGE myzset 2 5 WITHSCORES\n",
      "1 ) \"three\"-3\n",
      "2 ) \"four\"-4\n",
      "3 ) \"five\"-5\n",
      "my_redis> ZRANGE myzset 0 -1\n",
      "1 ) \"one\"\n",
      "2 ) \"two\"\n",
      "3 ) \"three\"\n",
      "4 ) \"four\"\n",
      "5 ) \"five\"\n"
     ]
    }
   ],
   "source": [
    "def main():\n",
    "    s = socket.socket(socket.AF_INET, socket.SOCK_STREAM)\n",
    "\n",
    "    port = 8080\n",
    "    s.connect(('0.0.0.0', port))\n",
    "\n",
    "    while True:\n",
    "        val = input(\"my_redis> \")\n",
    "        if val == \"exit\":\n",
    "            break;\n",
    "        s.sendall(val.encode('utf-8'))\n",
    "        data = str(s.recv(1024), \"utf-8\")\n",
    "        if \"ZRANGE\" in val:\n",
    "            act_data = data.split();\n",
    "            for i in range(len(act_data)):\n",
    "                print(i + 1, \")\", act_data[i])\n",
    "        else:\n",
    "            print(data)\n",
    "    \n",
    "if __name__==\"__main__\":\n",
    "    main()"
   ]
  },
  {
   "cell_type": "code",
   "execution_count": null,
   "metadata": {},
   "outputs": [],
   "source": []
  }
 ],
 "metadata": {
  "kernelspec": {
   "display_name": "Python 3",
   "language": "python",
   "name": "python3"
  },
  "language_info": {
   "codemirror_mode": {
    "name": "ipython",
    "version": 3
   },
   "file_extension": ".py",
   "mimetype": "text/x-python",
   "name": "python",
   "nbconvert_exporter": "python",
   "pygments_lexer": "ipython3",
   "version": "3.6.9"
  }
 },
 "nbformat": 4,
 "nbformat_minor": 2
}
